{
 "cells": [
  {
   "cell_type": "code",
   "execution_count": 1,
   "id": "e4975740",
   "metadata": {},
   "outputs": [
    {
     "name": "stdout",
     "output_type": "stream",
     "text": [
      "Requirement already satisfied: goose3 in c:\\users\\rodri\\anaconda3\\lib\\site-packages (3.1.11)\n",
      "Requirement already satisfied: cssselect in c:\\users\\rodri\\anaconda3\\lib\\site-packages (from goose3) (1.1.0)\n",
      "Requirement already satisfied: nltk in c:\\users\\rodri\\anaconda3\\lib\\site-packages (from goose3) (3.7)\n",
      "Requirement already satisfied: langdetect in c:\\users\\rodri\\anaconda3\\lib\\site-packages (from goose3) (1.0.9)\n",
      "Requirement already satisfied: requests in c:\\users\\rodri\\anaconda3\\lib\\site-packages (from goose3) (2.27.1)\n",
      "Requirement already satisfied: python-dateutil in c:\\users\\rodri\\anaconda3\\lib\\site-packages (from goose3) (2.8.2)\n",
      "Requirement already satisfied: jieba in c:\\users\\rodri\\anaconda3\\lib\\site-packages (from goose3) (0.42.1)\n",
      "Requirement already satisfied: beautifulsoup4 in c:\\users\\rodri\\anaconda3\\lib\\site-packages (from goose3) (4.11.1)\n",
      "Requirement already satisfied: Pillow in c:\\users\\rodri\\anaconda3\\lib\\site-packages (from goose3) (9.0.1)\n",
      "Requirement already satisfied: lxml in c:\\users\\rodri\\anaconda3\\lib\\site-packages (from goose3) (4.8.0)\n",
      "Requirement already satisfied: soupsieve>1.2 in c:\\users\\rodri\\anaconda3\\lib\\site-packages (from beautifulsoup4->goose3) (2.3.1)\n",
      "Requirement already satisfied: six in c:\\users\\rodri\\anaconda3\\lib\\site-packages (from langdetect->goose3) (1.16.0)\n",
      "Requirement already satisfied: click in c:\\users\\rodri\\anaconda3\\lib\\site-packages (from nltk->goose3) (8.1.3)\n",
      "Requirement already satisfied: joblib in c:\\users\\rodri\\anaconda3\\lib\\site-packages (from nltk->goose3) (1.1.0)\n",
      "Requirement already satisfied: regex>=2021.8.3 in c:\\users\\rodri\\anaconda3\\lib\\site-packages (from nltk->goose3) (2022.3.15)\n",
      "Requirement already satisfied: tqdm in c:\\users\\rodri\\anaconda3\\lib\\site-packages (from nltk->goose3) (4.64.0)\n",
      "Requirement already satisfied: colorama in c:\\users\\rodri\\anaconda3\\lib\\site-packages (from click->nltk->goose3) (0.4.4)\n",
      "Requirement already satisfied: certifi>=2017.4.17 in c:\\users\\rodri\\anaconda3\\lib\\site-packages (from requests->goose3) (2022.6.15)\n",
      "Requirement already satisfied: idna<4,>=2.5 in c:\\users\\rodri\\anaconda3\\lib\\site-packages (from requests->goose3) (2.10)\n",
      "Requirement already satisfied: charset-normalizer~=2.0.0 in c:\\users\\rodri\\anaconda3\\lib\\site-packages (from requests->goose3) (2.0.4)\n",
      "Requirement already satisfied: urllib3<1.27,>=1.21.1 in c:\\users\\rodri\\anaconda3\\lib\\site-packages (from requests->goose3) (1.26.9)\n"
     ]
    }
   ],
   "source": [
    "!pip install goose3"
   ]
  },
  {
   "cell_type": "code",
   "execution_count": 2,
   "id": "337204fe",
   "metadata": {},
   "outputs": [
    {
     "name": "stderr",
     "output_type": "stream",
     "text": [
      "[nltk_data] Downloading package punkt to\n",
      "[nltk_data]     C:\\Users\\rodri\\AppData\\Roaming\\nltk_data...\n",
      "[nltk_data]   Package punkt is already up-to-date!\n"
     ]
    },
    {
     "data": {
      "text/plain": [
       "True"
      ]
     },
     "execution_count": 2,
     "metadata": {},
     "output_type": "execute_result"
    }
   ],
   "source": [
    "from goose3 import Goose\n",
    "import nltk\n",
    "nltk.download('punkt')"
   ]
  },
  {
   "cell_type": "code",
   "execution_count": 3,
   "id": "451af3c6",
   "metadata": {},
   "outputs": [],
   "source": [
    "g = Goose()\n",
    "url = 'https://www.treinaweb.com.br/blog/orientacao-a-objetos-no-csharp'"
   ]
  },
  {
   "cell_type": "code",
   "execution_count": 4,
   "id": "c56190d3",
   "metadata": {},
   "outputs": [
    {
     "data": {
      "text/plain": [
       "<goose3.article.Article at 0x14acb1354f0>"
      ]
     },
     "execution_count": 4,
     "metadata": {},
     "output_type": "execute_result"
    }
   ],
   "source": [
    "artigo = g.extract(url)\n",
    "artigo"
   ]
  },
  {
   "cell_type": "code",
   "execution_count": 5,
   "id": "2e1f555d",
   "metadata": {},
   "outputs": [
    {
     "data": {
      "text/plain": [
       "'Orientação a objetos no C#'"
      ]
     },
     "execution_count": 5,
     "metadata": {},
     "output_type": "execute_result"
    }
   ],
   "source": [
    "artigo.title"
   ]
  },
  {
   "cell_type": "code",
   "execution_count": 6,
   "id": "a769f612",
   "metadata": {},
   "outputs": [
    {
     "data": {
      "text/plain": [
       "'Aprenda como trabalhar com classes, atributos, métodos e objetos no C# e aumente seus conhecimentos nessa linguagem incrível!'"
      ]
     },
     "execution_count": 6,
     "metadata": {},
     "output_type": "execute_result"
    }
   ],
   "source": [
    "artigo.meta_description"
   ]
  },
  {
   "cell_type": "code",
   "execution_count": 7,
   "id": "2eb66c34",
   "metadata": {},
   "outputs": [
    {
     "data": {
      "text/plain": [
       "['https://www.treinaweb.com.br/blog/os-pilares-da-orientacao-a-objetos/',\n",
       " 'https://www.treinaweb.com.br/curso/csharp-fundamentos',\n",
       " 'https://www.treinaweb.com.br/blog/os-pilares-da-orientacao-a-objetos/',\n",
       " 'https://www.treinaweb.com.br/curso/logica-orientada-a-objetos',\n",
       " 'https://www.treinaweb.com.br/curso/csharp-orientacao-a-objetos',\n",
       " 'https://www.treinaweb.com.br/blog/classes-abstratas-vs-interfaces',\n",
       " 'https://www.treinaweb.com.br/',\n",
       " 'https://www.treinaweb.com.br/curso/csharp-orientacao-a-objetos',\n",
       " 'https://www.treinaweb.com.br/cursos?q=C%23']"
      ]
     },
     "execution_count": 7,
     "metadata": {},
     "output_type": "execute_result"
    }
   ],
   "source": [
    "artigo.links"
   ]
  },
  {
   "cell_type": "code",
   "execution_count": 8,
   "id": "7f3f5f41",
   "metadata": {},
   "outputs": [
    {
     "data": {
      "text/plain": [
       "'O paradigma orientado a objetos traz boas vantagens, como a reutilização de código, a legibilidade e manutenibilidade do código, a natural modularização e a produção de código mais acessível, já que as estruturas criadas geralmente representam aspectos também existentes no mundo real.\\n\\nQuando lidamos com o paradigma orientado a objetos, acabamos criando diversas unidades de software através de estruturas chamadas classes. A partir destas classes, podemos criar estruturas chamadas objetos, estruturas estas que interagem entre si. Esse é o motivo pelo qual o paradigma é chamado de orientação a objetos: todas as interações necessárias para que o software funcione ocorrem através de mensagens e comandos trocados entre estes objetos.\\n\\nCaso você esteja iniciando e não conheça muita coisa sobre orientação a objetos, indico primeiramente a leitura do artigo “Os pilares da orientação a objetos”.\\n\\nQuando falamos sobre orientação a objetos, as classes são uma das estruturas essenciais.\\n\\nUma classe funciona como um “molde” para definição de outras estruturas. Classes geralmente são compostas pelo agrupamento de atributos ou características, e métodos ou ações. Uma classe define agrupamentos de atributos e métodos que são correlacionados e podem ser reaproveitados.\\n\\nPor exemplo, imagine que você precisa criar uma aplicação para fazer a gestão de uma frota de veículos. Nessa aplicação, com certeza será necessário manipular informações de carros. E todos os carros geralmente possuem um “molde” padrão com características e ações que são comuns a todos os carros.\\n\\nTodos os carros, por exemplo, possuem características como:\\n\\nE possuem ações em comum, como:\\n\\nDessa maneira, poderíamos criar uma estrutura de código que representasse esse formato padrão para todos os veículos, agrupando justamente estas características e ações. E é exatamente essa estrutura que é uma classe. Nesse caso, poderíamos ter uma classe Carro, que define as características e ações que são comuns para todos os carros.\\n\\nNeste momento, caso você tenha visto possíveis palavras desconhecidas ou que você não entenda o funcionamento, como , por exemplo, seu funcionamento é abordado no artigo “Os pilares da orientação a objetos” que citamos no começo deste artigo.\\n\\nComo no exemplo acima, classes geralmente possuem duas sessões distintas: uma primeira parte, onde são declaradas as características (que tecnicamente são chamadas de atributos); e uma segunda parte onde são declaradas as ações previstas por aquela classe (que tecnicamente são chamadas de métodos).\\n\\nUma classe não é obrigada a ter as duas sessões: podemos ter classes que possuem somente atributos, podemos ter classes que possuem somente métodos e podemos ter classes que possuem ambas as sessões. Tudo vai depender da necessidade.\\n\\nClasses existem para definirmos os nossos moldes, ou seja, para definirmos o formato de estruturas que nosso código irá manipular. Mas, elas servem somente para ser moldes. Se quisermos as utilizar, precisamos colocar algo e criar uma estrutura que seja semelhante a esse molde. E é nesse momento que entram em cena os objetos.\\n\\nOs objetos são estruturas que são criadas a partir das classes. Um objeto, quando criado a partir de uma determinada classe, assume que irá possuir os mesmos atributos e os mesmos métodos definidos pela classe. Uma classe pode dar origem a vários objetos distintos entre si que compartilham o mesmo molde.\\n\\nNeste exemplo, usamos a nossa classe para criar dois objetos a partir dela: os objetos e .\\n\\nNo exemplo acima, ainda podemos afirmar que temos duas variáveis do tipo : e ; embora, em termos técnicos, o correto é dizer que temos duas instâncias da classe : e , objetos também são chamados de instâncias de uma classe. Porém, em termos práticos, não há problema em dizer que temos uma variável do tipo de uma classe.\\n\\nObjetos são importantes por algumas razões, logo aqui, podemos ver algumas características importantes:\\n• Objetos definem instâncias de classes, o que nos permite usufruir do molde de atributos e métodos definidos por uma classe;\\n• Objetos guardam estado de maneira segregada: veja que o objeto corsa tem suas características definidas de maneira própria, como modelo, marca, chassi e fabricante. O objeto gol também tem exatamente as mesmas características, mas definidas de acordo com o objeto gol. Embora ambos os objetos venham da mesma classe, eles têm seus próprios valores de atributos, valores estes atrelados a cada instância (no caso, as instâncias gol e corsa).\\n\\nPartindo do mesmo código acima, temos os métodos. Os métodos são comportamentos e ações que os objetos podem ter.\\n\\nNo código acima, os objetos gol e corsa, por virem do “molde” Carro, adquirem os atributos e métodos definidos pela classe Carro e, por isso, passam a ter as características com modelo, marca e chassi; e ganham as ações definidas pela classe Carro, como ligar, desligar e acelerar.\\n\\nQuando temos objetos, seus atributos (ou características) e métodos (ou ações) são acessados através do “.”. Por exemplo: se eu tenho um Carro chamado corsa e quero acessar seu atributo modelo, devo escrever um código como . A mesma coisa vale para métodos: se eu quiser acessar o método ligar do objeto corsa, devo escrever o código .\\n\\nCom isso tivemos uma breve introdução sobre como é implementada a Orientação a Objetos na linguagem C#, esse é um assunto bastante denso e ainda existem muitos outros conceitos importantes em relação a orientação a objetos, conceitos como encapsulamento, herança, polimorfismo, classes abstratas, interfaces e entre outros que são abordados em mais detalhes no artigo sobre orientação a objetos já citado nesse artigo.\\n\\nPor fim, caso queira aprender mais sobre Orientação a Objetos no C# saiba que aqui na TreinaWeb temos o curso C# - Orientação a Objetos que possui 02h44 de videos e um total de 24 exercícios. Conheça também nossos outros cursos de C#.\\n\\nVeja quais são os tópicos abordados durante o curso de C# - Orientação a Objetos:\\n• Definir e utilizar atributos e métodos em suas classes;'"
      ]
     },
     "execution_count": 8,
     "metadata": {},
     "output_type": "execute_result"
    }
   ],
   "source": [
    "artigo.cleaned_text"
   ]
  },
  {
   "cell_type": "code",
   "execution_count": 9,
   "id": "db50a101",
   "metadata": {},
   "outputs": [
    {
     "name": "stderr",
     "output_type": "stream",
     "text": [
      "[nltk_data] Downloading package stopwords to\n",
      "[nltk_data]     C:\\Users\\rodri\\AppData\\Roaming\\nltk_data...\n",
      "[nltk_data]   Package stopwords is already up-to-date!\n"
     ]
    }
   ],
   "source": [
    "from nltk import word_tokenize\n",
    "from nltk.probability import FreqDist\n",
    "import matplotlib.pyplot as plt \n",
    "from wordcloud import WordCloud, STOPWORDS\n",
    "from PIL import Image\n",
    "import numpy as np\n",
    "from nltk.corpus import stopwords\n",
    "nltk.download('stopwords')\n",
    "%matplotlib inline"
   ]
  },
  {
   "cell_type": "code",
   "execution_count": 10,
   "id": "3b7d1e57",
   "metadata": {},
   "outputs": [
    {
     "name": "stdout",
     "output_type": "stream",
     "text": [
      "['O', 'paradigma', 'orientado', 'a', 'objetos', 'traz', 'boas', 'vantagens', ',', 'como', 'a', 'reutilização', 'de', 'código', ',', 'a', 'legibilidade', 'e', 'manutenibilidade', 'do', 'código', ',', 'a', 'natural', 'modularização', 'e', 'a', 'produção', 'de', 'código', 'mais', 'acessível', ',', 'já', 'que', 'as', 'estruturas', 'criadas', 'geralmente', 'representam', 'aspectos', 'também', 'existentes', 'no', 'mundo', 'real', '.', 'Quando', 'lidamos', 'com', 'o', 'paradigma', 'orientado', 'a', 'objetos', ',', 'acabamos', 'criando', 'diversas', 'unidades', 'de', 'software', 'através', 'de', 'estruturas', 'chamadas', 'classes', '.', 'A', 'partir', 'destas', 'classes', ',', 'podemos', 'criar', 'estruturas', 'chamadas', 'objetos', ',', 'estruturas', 'estas', 'que', 'interagem', 'entre', 'si', '.', 'Esse', 'é', 'o', 'motivo', 'pelo', 'qual', 'o', 'paradigma', 'é', 'chamado', 'de', 'orientação', 'a', 'objetos', ':', 'todas', 'as', 'interações', 'necessárias', 'para', 'que', 'o', 'software', 'funcione', 'ocorrem', 'através', 'de', 'mensagens', 'e', 'comandos', 'trocados', 'entre', 'estes', 'objetos', '.', 'Caso', 'você', 'esteja', 'iniciando', 'e', 'não', 'conheça', 'muita', 'coisa', 'sobre', 'orientação', 'a', 'objetos', ',', 'indico', 'primeiramente', 'a', 'leitura', 'do', 'artigo', '“', 'Os', 'pilares', 'da', 'orientação', 'a', 'objetos', '”', '.', 'Quando', 'falamos', 'sobre', 'orientação', 'a', 'objetos', ',', 'as', 'classes', 'são', 'uma', 'das', 'estruturas', 'essenciais', '.', 'Uma', 'classe', 'funciona', 'como', 'um', '“', 'molde', '”', 'para', 'definição', 'de', 'outras', 'estruturas', '.', 'Classes', 'geralmente', 'são', 'compostas', 'pelo', 'agrupamento', 'de', 'atributos', 'ou', 'características', ',', 'e', 'métodos', 'ou', 'ações', '.', 'Uma', 'classe', 'define', 'agrupamentos', 'de', 'atributos', 'e', 'métodos', 'que', 'são', 'correlacionados', 'e', 'podem', 'ser', 'reaproveitados', '.', 'Por', 'exemplo', ',', 'imagine', 'que', 'você', 'precisa', 'criar', 'uma', 'aplicação', 'para', 'fazer', 'a', 'gestão', 'de', 'uma', 'frota', 'de', 'veículos', '.', 'Nessa', 'aplicação', ',', 'com', 'certeza', 'será', 'necessário', 'manipular', 'informações', 'de', 'carros', '.', 'E', 'todos', 'os', 'carros', 'geralmente', 'possuem', 'um', '“', 'molde', '”', 'padrão', 'com', 'características', 'e', 'ações', 'que', 'são', 'comuns', 'a', 'todos', 'os', 'carros', '.', 'Todos', 'os', 'carros', ',', 'por', 'exemplo', ',', 'possuem', 'características', 'como', ':', 'E', 'possuem', 'ações', 'em', 'comum', ',', 'como', ':', 'Dessa', 'maneira', ',', 'poderíamos', 'criar', 'uma', 'estrutura', 'de', 'código', 'que', 'representasse', 'esse', 'formato', 'padrão', 'para', 'todos', 'os', 'veículos', ',', 'agrupando', 'justamente', 'estas', 'características', 'e', 'ações', '.', 'E', 'é', 'exatamente', 'essa', 'estrutura', 'que', 'é', 'uma', 'classe', '.', 'Nesse', 'caso', ',', 'poderíamos', 'ter', 'uma', 'classe', 'Carro', ',', 'que', 'define', 'as', 'características', 'e', 'ações', 'que', 'são', 'comuns', 'para', 'todos', 'os', 'carros', '.', 'Neste', 'momento', ',', 'caso', 'você', 'tenha', 'visto', 'possíveis', 'palavras', 'desconhecidas', 'ou', 'que', 'você', 'não', 'entenda', 'o', 'funcionamento', ',', 'como', ',', 'por', 'exemplo', ',', 'seu', 'funcionamento', 'é', 'abordado', 'no', 'artigo', '“', 'Os', 'pilares', 'da', 'orientação', 'a', 'objetos', '”', 'que', 'citamos', 'no', 'começo', 'deste', 'artigo', '.', 'Como', 'no', 'exemplo', 'acima', ',', 'classes', 'geralmente', 'possuem', 'duas', 'sessões', 'distintas', ':', 'uma', 'primeira', 'parte', ',', 'onde', 'são', 'declaradas', 'as', 'características', '(', 'que', 'tecnicamente', 'são', 'chamadas', 'de', 'atributos', ')', ';', 'e', 'uma', 'segunda', 'parte', 'onde', 'são', 'declaradas', 'as', 'ações', 'previstas', 'por', 'aquela', 'classe', '(', 'que', 'tecnicamente', 'são', 'chamadas', 'de', 'métodos', ')', '.', 'Uma', 'classe', 'não', 'é', 'obrigada', 'a', 'ter', 'as', 'duas', 'sessões', ':', 'podemos', 'ter', 'classes', 'que', 'possuem', 'somente', 'atributos', ',', 'podemos', 'ter', 'classes', 'que', 'possuem', 'somente', 'métodos', 'e', 'podemos', 'ter', 'classes', 'que', 'possuem', 'ambas', 'as', 'sessões', '.', 'Tudo', 'vai', 'depender', 'da', 'necessidade', '.', 'Classes', 'existem', 'para', 'definirmos', 'os', 'nossos', 'moldes', ',', 'ou', 'seja', ',', 'para', 'definirmos', 'o', 'formato', 'de', 'estruturas', 'que', 'nosso', 'código', 'irá', 'manipular', '.', 'Mas', ',', 'elas', 'servem', 'somente', 'para', 'ser', 'moldes', '.', 'Se', 'quisermos', 'as', 'utilizar', ',', 'precisamos', 'colocar', 'algo', 'e', 'criar', 'uma', 'estrutura', 'que', 'seja', 'semelhante', 'a', 'esse', 'molde', '.', 'E', 'é', 'nesse', 'momento', 'que', 'entram', 'em', 'cena', 'os', 'objetos', '.', 'Os', 'objetos', 'são', 'estruturas', 'que', 'são', 'criadas', 'a', 'partir', 'das', 'classes', '.', 'Um', 'objeto', ',', 'quando', 'criado', 'a', 'partir', 'de', 'uma', 'determinada', 'classe', ',', 'assume', 'que', 'irá', 'possuir', 'os', 'mesmos', 'atributos', 'e', 'os', 'mesmos', 'métodos', 'definidos', 'pela', 'classe', '.', 'Uma', 'classe', 'pode', 'dar', 'origem', 'a', 'vários', 'objetos', 'distintos', 'entre', 'si', 'que', 'compartilham', 'o', 'mesmo', 'molde', '.', 'Neste', 'exemplo', ',', 'usamos', 'a', 'nossa', 'classe', 'para', 'criar', 'dois', 'objetos', 'a', 'partir', 'dela', ':', 'os', 'objetos', 'e', '.', 'No', 'exemplo', 'acima', ',', 'ainda', 'podemos', 'afirmar', 'que', 'temos', 'duas', 'variáveis', 'do', 'tipo', ':', 'e', ';', 'embora', ',', 'em', 'termos', 'técnicos', ',', 'o', 'correto', 'é', 'dizer', 'que', 'temos', 'duas', 'instâncias', 'da', 'classe', ':', 'e', ',', 'objetos', 'também', 'são', 'chamados', 'de', 'instâncias', 'de', 'uma', 'classe', '.', 'Porém', ',', 'em', 'termos', 'práticos', ',', 'não', 'há', 'problema', 'em', 'dizer', 'que', 'temos', 'uma', 'variável', 'do', 'tipo', 'de', 'uma', 'classe', '.', 'Objetos', 'são', 'importantes', 'por', 'algumas', 'razões', ',', 'logo', 'aqui', ',', 'podemos', 'ver', 'algumas', 'características', 'importantes', ':', '•', 'Objetos', 'definem', 'instâncias', 'de', 'classes', ',', 'o', 'que', 'nos', 'permite', 'usufruir', 'do', 'molde', 'de', 'atributos', 'e', 'métodos', 'definidos', 'por', 'uma', 'classe', ';', '•', 'Objetos', 'guardam', 'estado', 'de', 'maneira', 'segregada', ':', 'veja', 'que', 'o', 'objeto', 'corsa', 'tem', 'suas', 'características', 'definidas', 'de', 'maneira', 'própria', ',', 'como', 'modelo', ',', 'marca', ',', 'chassi', 'e', 'fabricante', '.', 'O', 'objeto', 'gol', 'também', 'tem', 'exatamente', 'as', 'mesmas', 'características', ',', 'mas', 'definidas', 'de', 'acordo', 'com', 'o', 'objeto', 'gol', '.', 'Embora', 'ambos', 'os', 'objetos', 'venham', 'da', 'mesma', 'classe', ',', 'eles', 'têm', 'seus', 'próprios', 'valores', 'de', 'atributos', ',', 'valores', 'estes', 'atrelados', 'a', 'cada', 'instância', '(', 'no', 'caso', ',', 'as', 'instâncias', 'gol', 'e', 'corsa', ')', '.', 'Partindo', 'do', 'mesmo', 'código', 'acima', ',', 'temos', 'os', 'métodos', '.', 'Os', 'métodos', 'são', 'comportamentos', 'e', 'ações', 'que', 'os', 'objetos', 'podem', 'ter', '.', 'No', 'código', 'acima', ',', 'os', 'objetos', 'gol', 'e', 'corsa', ',', 'por', 'virem', 'do', '“', 'molde', '”', 'Carro', ',', 'adquirem', 'os', 'atributos', 'e', 'métodos', 'definidos', 'pela', 'classe', 'Carro', 'e', ',', 'por', 'isso', ',', 'passam', 'a', 'ter', 'as', 'características', 'com', 'modelo', ',', 'marca', 'e', 'chassi', ';', 'e', 'ganham', 'as', 'ações', 'definidas', 'pela', 'classe', 'Carro', ',', 'como', 'ligar', ',', 'desligar', 'e', 'acelerar', '.', 'Quando', 'temos', 'objetos', ',', 'seus', 'atributos', '(', 'ou', 'características', ')', 'e', 'métodos', '(', 'ou', 'ações', ')', 'são', 'acessados', 'através', 'do', '“', '.', '”', '.', 'Por', 'exemplo', ':', 'se', 'eu', 'tenho', 'um', 'Carro', 'chamado', 'corsa', 'e', 'quero', 'acessar', 'seu', 'atributo', 'modelo', ',', 'devo', 'escrever', 'um', 'código', 'como', '.', 'A', 'mesma', 'coisa', 'vale', 'para', 'métodos', ':', 'se', 'eu', 'quiser', 'acessar', 'o', 'método', 'ligar', 'do', 'objeto', 'corsa', ',', 'devo', 'escrever', 'o', 'código', '.', 'Com', 'isso', 'tivemos', 'uma', 'breve', 'introdução', 'sobre', 'como', 'é', 'implementada', 'a', 'Orientação', 'a', 'Objetos', 'na', 'linguagem', 'C', '#', ',', 'esse', 'é', 'um', 'assunto', 'bastante', 'denso', 'e', 'ainda', 'existem', 'muitos', 'outros', 'conceitos', 'importantes', 'em', 'relação', 'a', 'orientação', 'a', 'objetos', ',', 'conceitos', 'como', 'encapsulamento', ',', 'herança', ',', 'polimorfismo', ',', 'classes', 'abstratas', ',', 'interfaces', 'e', 'entre', 'outros', 'que', 'são', 'abordados', 'em', 'mais', 'detalhes', 'no', 'artigo', 'sobre', 'orientação', 'a', 'objetos', 'já', 'citado', 'nesse', 'artigo', '.', 'Por', 'fim', ',', 'caso', 'queira', 'aprender', 'mais', 'sobre', 'Orientação', 'a', 'Objetos', 'no', 'C', '#', 'saiba', 'que', 'aqui', 'na', 'TreinaWeb', 'temos', 'o', 'curso', 'C', '#', '-', 'Orientação', 'a', 'Objetos', 'que', 'possui', '02h44', 'de', 'videos', 'e', 'um', 'total', 'de', '24', 'exercícios', '.', 'Conheça', 'também', 'nossos', 'outros', 'cursos', 'de', 'C', '#', '.', 'Veja', 'quais', 'são', 'os', 'tópicos', 'abordados', 'durante', 'o', 'curso', 'de', 'C', '#', '-', 'Orientação', 'a', 'Objetos', ':', '•', 'Definir', 'e', 'utilizar', 'atributos', 'e', 'métodos', 'em', 'suas', 'classes', ';']\n"
     ]
    }
   ],
   "source": [
    "word_tokens = word_tokenize(artigo.cleaned_text)\n",
    "print(word_tokens)"
   ]
  },
  {
   "cell_type": "code",
   "execution_count": 11,
   "id": "0f0d58d7",
   "metadata": {},
   "outputs": [
    {
     "name": "stdout",
     "output_type": "stream",
     "text": [
      "{'estar', 'tenhamos', 'dela', 'foram', 'teríamos', 'num', 'houvessem', 'fomos', 'estejam', 'tuas', 'delas', 'éramos', 'mesmo', 'hei', 'foi', 'minha', 'pelas', 'teu', 'teria', 'estávamos', 'te', 'estava', 'está', 'fosse', 'sem', 'são', 'teve', 'seríamos', 'tu', 'à', 'como', 'meu', 'tua', 'estivessem', 'nosso', 'estivermos', 'tinham', 'era', 'aqueles', 'fôssemos', 'meus', 'tivermos', 'ou', 'lhe', 'por', 'com', 'pela', 'tivéramos', 'aquelas', 'às', 'forem', 'houvéssemos', 'teremos', 'tenho', 'só', 'para', 'tiver', 'as', 'estiverem', 'estivesse', 'já', 'do', 'quem', 'o', 'seus', 'sou', 'seremos', 'houverá', 'nossos', 'estou', 'pelos', 'houverem', 'mas', 'esteja', 'isso', 'estivéramos', 'tive', 'somos', 'houvera', 'os', 'ela', 'hão', 'sejamos', 'no', 'sua', 'pelo', 'esta', 'você', 'houveria', 'numa', 'esses', 'serão', 'uma', 'dos', 'houveriam', 'tenham', 'esteve', 'terá', 'também', 'da', 'haja', 'estiver', 'houvemos', 'estavam', 'muito', 'será', 'e', 'tem', 'tém', 'mais', 'tivera', 'de', 'tiveram', 'houvesse', 'não', 'aos', 'houve', 'suas', 'em', 'serei', 'eu', 'lhes', 'nossa', 'vos', 'fora', 'houveram', 'é', 'estejamos', 'houvéramos', 'esse', 'me', 'houveremos', 'quando', 'ao', 'isto', 'tivéssemos', 'um', 'elas', 'hajam', 'houverei', 'terei', 'das', 'entre', 'qual', 'essas', 'estivemos', 'nas', 'houveríamos', 'há', 'essa', 'hajamos', 'nos', 'eram', 'seriam', 'estive', 'deles', 'ser', 'formos', 'for', 'fossem', 'que', 'a', 'havemos', 'tínhamos', 'estão', 'na', 'aquele', 'terão', 'houver', 'haver', 'tenha', 'seu', 'tivemos', 'depois', 'minhas', 'até', 'nem', 'vocês', 'aquela', 'dele', 'estamos', 'fui', 'estivéssemos', 'aquilo', 'temos', 'tinha', 'eles', 'estas', 'teriam', 'houverão', 'estivera', 'estes', 'se', 'sejam', 'houvermos', 'tivessem', 'fôramos', 'nós', 'este', 'teus', 'tivesse', 'estiveram', 'seja', 'ele', 'tiverem', 'seria', 'nossas'}\n"
     ]
    }
   ],
   "source": [
    "portuguese_stops = set(stopwords.words('portuguese'))\n",
    "print(portuguese_stops)"
   ]
  },
  {
   "cell_type": "code",
   "execution_count": 12,
   "id": "e20ac476",
   "metadata": {},
   "outputs": [
    {
     "name": "stdout",
     "output_type": "stream",
     "text": [
      "['O', 'paradigma', 'orientado', 'objetos', 'traz', 'boas', 'vantagens', ',', 'reutilização', 'código', ',', 'legibilidade', 'manutenibilidade', 'código', ',', 'natural', 'modularização', 'produção', 'código', 'acessível', ',', 'estruturas', 'criadas', 'geralmente', 'representam', 'aspectos', 'existentes', 'mundo', 'real', '.', 'Quando', 'lidamos', 'paradigma', 'orientado', 'objetos', ',', 'acabamos', 'criando', 'diversas', 'unidades', 'software', 'através', 'estruturas', 'chamadas', 'classes', '.', 'A', 'partir', 'destas', 'classes', ',', 'podemos', 'criar', 'estruturas', 'chamadas', 'objetos', ',', 'estruturas', 'interagem', 'si', '.', 'Esse', 'motivo', 'paradigma', 'chamado', 'orientação', 'objetos', ':', 'todas', 'interações', 'necessárias', 'software', 'funcione', 'ocorrem', 'através', 'mensagens', 'comandos', 'trocados', 'objetos', '.', 'Caso', 'iniciando', 'conheça', 'muita', 'coisa', 'sobre', 'orientação', 'objetos', ',', 'indico', 'primeiramente', 'leitura', 'artigo', '“', 'Os', 'pilares', 'orientação', 'objetos', '”', '.', 'Quando', 'falamos', 'sobre', 'orientação', 'objetos', ',', 'classes', 'estruturas', 'essenciais', '.', 'Uma', 'classe', 'funciona', '“', 'molde', '”', 'definição', 'outras', 'estruturas', '.', 'Classes', 'geralmente', 'compostas', 'agrupamento', 'atributos', 'características', ',', 'métodos', 'ações', '.', 'Uma', 'classe', 'define', 'agrupamentos', 'atributos', 'métodos', 'correlacionados', 'podem', 'reaproveitados', '.', 'Por', 'exemplo', ',', 'imagine', 'precisa', 'criar', 'aplicação', 'fazer', 'gestão', 'frota', 'veículos', '.', 'Nessa', 'aplicação', ',', 'certeza', 'necessário', 'manipular', 'informações', 'carros', '.', 'E', 'todos', 'carros', 'geralmente', 'possuem', '“', 'molde', '”', 'padrão', 'características', 'ações', 'comuns', 'todos', 'carros', '.', 'Todos', 'carros', ',', 'exemplo', ',', 'possuem', 'características', ':', 'E', 'possuem', 'ações', 'comum', ',', ':', 'Dessa', 'maneira', ',', 'poderíamos', 'criar', 'estrutura', 'código', 'representasse', 'formato', 'padrão', 'todos', 'veículos', ',', 'agrupando', 'justamente', 'características', 'ações', '.', 'E', 'exatamente', 'estrutura', 'classe', '.', 'Nesse', 'caso', ',', 'poderíamos', 'ter', 'classe', 'Carro', ',', 'define', 'características', 'ações', 'comuns', 'todos', 'carros', '.', 'Neste', 'momento', ',', 'caso', 'visto', 'possíveis', 'palavras', 'desconhecidas', 'entenda', 'funcionamento', ',', ',', 'exemplo', ',', 'funcionamento', 'abordado', 'artigo', '“', 'Os', 'pilares', 'orientação', 'objetos', '”', 'citamos', 'começo', 'deste', 'artigo', '.', 'Como', 'exemplo', 'acima', ',', 'classes', 'geralmente', 'possuem', 'duas', 'sessões', 'distintas', ':', 'primeira', 'parte', ',', 'onde', 'declaradas', 'características', '(', 'tecnicamente', 'chamadas', 'atributos', ')', ';', 'segunda', 'parte', 'onde', 'declaradas', 'ações', 'previstas', 'classe', '(', 'tecnicamente', 'chamadas', 'métodos', ')', '.', 'Uma', 'classe', 'obrigada', 'ter', 'duas', 'sessões', ':', 'podemos', 'ter', 'classes', 'possuem', 'somente', 'atributos', ',', 'podemos', 'ter', 'classes', 'possuem', 'somente', 'métodos', 'podemos', 'ter', 'classes', 'possuem', 'ambas', 'sessões', '.', 'Tudo', 'vai', 'depender', 'necessidade', '.', 'Classes', 'existem', 'definirmos', 'moldes', ',', ',', 'definirmos', 'formato', 'estruturas', 'código', 'irá', 'manipular', '.', 'Mas', ',', 'servem', 'somente', 'moldes', '.', 'Se', 'quisermos', 'utilizar', ',', 'precisamos', 'colocar', 'algo', 'criar', 'estrutura', 'semelhante', 'molde', '.', 'E', 'nesse', 'momento', 'entram', 'cena', 'objetos', '.', 'Os', 'objetos', 'estruturas', 'criadas', 'partir', 'classes', '.', 'Um', 'objeto', ',', 'criado', 'partir', 'determinada', 'classe', ',', 'assume', 'irá', 'possuir', 'mesmos', 'atributos', 'mesmos', 'métodos', 'definidos', 'classe', '.', 'Uma', 'classe', 'pode', 'dar', 'origem', 'vários', 'objetos', 'distintos', 'si', 'compartilham', 'molde', '.', 'Neste', 'exemplo', ',', 'usamos', 'classe', 'criar', 'dois', 'objetos', 'partir', ':', 'objetos', '.', 'No', 'exemplo', 'acima', ',', 'ainda', 'podemos', 'afirmar', 'duas', 'variáveis', 'tipo', ':', ';', 'embora', ',', 'termos', 'técnicos', ',', 'correto', 'dizer', 'duas', 'instâncias', 'classe', ':', ',', 'objetos', 'chamados', 'instâncias', 'classe', '.', 'Porém', ',', 'termos', 'práticos', ',', 'problema', 'dizer', 'variável', 'tipo', 'classe', '.', 'Objetos', 'importantes', 'algumas', 'razões', ',', 'logo', 'aqui', ',', 'podemos', 'ver', 'algumas', 'características', 'importantes', ':', '•', 'Objetos', 'definem', 'instâncias', 'classes', ',', 'permite', 'usufruir', 'molde', 'atributos', 'métodos', 'definidos', 'classe', ';', '•', 'Objetos', 'guardam', 'estado', 'maneira', 'segregada', ':', 'veja', 'objeto', 'corsa', 'características', 'definidas', 'maneira', 'própria', ',', 'modelo', ',', 'marca', ',', 'chassi', 'fabricante', '.', 'O', 'objeto', 'gol', 'exatamente', 'mesmas', 'características', ',', 'definidas', 'acordo', 'objeto', 'gol', '.', 'Embora', 'ambos', 'objetos', 'venham', 'mesma', 'classe', ',', 'têm', 'próprios', 'valores', 'atributos', ',', 'valores', 'atrelados', 'cada', 'instância', '(', 'caso', ',', 'instâncias', 'gol', 'corsa', ')', '.', 'Partindo', 'código', 'acima', ',', 'métodos', '.', 'Os', 'métodos', 'comportamentos', 'ações', 'objetos', 'podem', 'ter', '.', 'No', 'código', 'acima', ',', 'objetos', 'gol', 'corsa', ',', 'virem', '“', 'molde', '”', 'Carro', ',', 'adquirem', 'atributos', 'métodos', 'definidos', 'classe', 'Carro', ',', ',', 'passam', 'ter', 'características', 'modelo', ',', 'marca', 'chassi', ';', 'ganham', 'ações', 'definidas', 'classe', 'Carro', ',', 'ligar', ',', 'desligar', 'acelerar', '.', 'Quando', 'objetos', ',', 'atributos', '(', 'características', ')', 'métodos', '(', 'ações', ')', 'acessados', 'através', '“', '.', '”', '.', 'Por', 'exemplo', ':', 'Carro', 'chamado', 'corsa', 'quero', 'acessar', 'atributo', 'modelo', ',', 'devo', 'escrever', 'código', '.', 'A', 'mesma', 'coisa', 'vale', 'métodos', ':', 'quiser', 'acessar', 'método', 'ligar', 'objeto', 'corsa', ',', 'devo', 'escrever', 'código', '.', 'Com', 'breve', 'introdução', 'sobre', 'implementada', 'Orientação', 'Objetos', 'linguagem', 'C', '#', ',', 'assunto', 'bastante', 'denso', 'ainda', 'existem', 'muitos', 'outros', 'conceitos', 'importantes', 'relação', 'orientação', 'objetos', ',', 'conceitos', 'encapsulamento', ',', 'herança', ',', 'polimorfismo', ',', 'classes', 'abstratas', ',', 'interfaces', 'outros', 'abordados', 'detalhes', 'artigo', 'sobre', 'orientação', 'objetos', 'citado', 'nesse', 'artigo', '.', 'Por', 'fim', ',', 'caso', 'queira', 'aprender', 'sobre', 'Orientação', 'Objetos', 'C', '#', 'saiba', 'aqui', 'TreinaWeb', 'curso', 'C', '#', '-', 'Orientação', 'Objetos', 'possui', '02h44', 'videos', 'total', '24', 'exercícios', '.', 'Conheça', 'outros', 'cursos', 'C', '#', '.', 'Veja', 'quais', 'tópicos', 'abordados', 'durante', 'curso', 'C', '#', '-', 'Orientação', 'Objetos', ':', '•', 'Definir', 'utilizar', 'atributos', 'métodos', 'classes', ';']\n"
     ]
    }
   ],
   "source": [
    "word_tokens = [palavra for palavra in word_tokens if palavra not in portuguese_stops]\n",
    "print(word_tokens)"
   ]
  },
  {
   "cell_type": "code",
   "execution_count": 13,
   "id": "79ca1892",
   "metadata": {},
   "outputs": [
    {
     "data": {
      "text/plain": [
       "FreqDist({',': 68, '.': 42, 'objetos': 21, 'classe': 17, ':': 13, 'métodos': 12, 'classes': 11, 'características': 11, 'atributos': 10, 'código': 9, ...})"
      ]
     },
     "execution_count": 13,
     "metadata": {},
     "output_type": "execute_result"
    }
   ],
   "source": [
    "fdist = FreqDist(word_tokens)\n",
    "fdist"
   ]
  },
  {
   "cell_type": "code",
   "execution_count": 14,
   "id": "01202b44",
   "metadata": {},
   "outputs": [
    {
     "name": "stdout",
     "output_type": "stream",
     "text": [
      "['O', 'paradigma', 'orientado', 'objetos', 'traz', 'boas', 'vantagens', 'reutilização', 'código', 'legibilidade', 'manutenibilidade', 'código', 'natural', 'modularização', 'produção', 'código', 'acessível', 'estruturas', 'criadas', 'geralmente', 'representam', 'aspectos', 'existentes', 'mundo', 'real', 'Quando', 'lidamos', 'paradigma', 'orientado', 'objetos', 'acabamos', 'criando', 'diversas', 'unidades', 'software', 'através', 'estruturas', 'chamadas', 'classes', 'A', 'partir', 'destas', 'classes', 'podemos', 'criar', 'estruturas', 'chamadas', 'objetos', 'estruturas', 'interagem', 'si', 'Esse', 'motivo', 'paradigma', 'chamado', 'orientação', 'objetos', 'todas', 'interações', 'necessárias', 'software', 'funcione', 'ocorrem', 'através', 'mensagens', 'comandos', 'trocados', 'objetos', 'Caso', 'iniciando', 'conheça', 'muita', 'coisa', 'sobre', 'orientação', 'objetos', 'indico', 'primeiramente', 'leitura', 'artigo', 'Os', 'pilares', 'orientação', 'objetos', 'Quando', 'falamos', 'sobre', 'orientação', 'objetos', 'classes', 'estruturas', 'essenciais', 'Uma', 'classe', 'funciona', 'molde', 'definição', 'outras', 'estruturas', 'Classes', 'geralmente', 'compostas', 'agrupamento', 'atributos', 'características', 'métodos', 'ações', 'Uma', 'classe', 'define', 'agrupamentos', 'atributos', 'métodos', 'correlacionados', 'podem', 'reaproveitados', 'Por', 'exemplo', 'imagine', 'precisa', 'criar', 'aplicação', 'fazer', 'gestão', 'frota', 'veículos', 'Nessa', 'aplicação', 'certeza', 'necessário', 'manipular', 'informações', 'carros', 'E', 'todos', 'carros', 'geralmente', 'possuem', 'molde', 'padrão', 'características', 'ações', 'comuns', 'todos', 'carros', 'Todos', 'carros', 'exemplo', 'possuem', 'características', 'E', 'possuem', 'ações', 'comum', 'Dessa', 'maneira', 'poderíamos', 'criar', 'estrutura', 'código', 'representasse', 'formato', 'padrão', 'todos', 'veículos', 'agrupando', 'justamente', 'características', 'ações', 'E', 'exatamente', 'estrutura', 'classe', 'Nesse', 'caso', 'poderíamos', 'ter', 'classe', 'Carro', 'define', 'características', 'ações', 'comuns', 'todos', 'carros', 'Neste', 'momento', 'caso', 'visto', 'possíveis', 'palavras', 'desconhecidas', 'entenda', 'funcionamento', 'exemplo', 'funcionamento', 'abordado', 'artigo', 'Os', 'pilares', 'orientação', 'objetos', 'citamos', 'começo', 'deste', 'artigo', 'Como', 'exemplo', 'acima', 'classes', 'geralmente', 'possuem', 'duas', 'sessões', 'distintas', 'primeira', 'parte', 'onde', 'declaradas', 'características', 'tecnicamente', 'chamadas', 'atributos', 'segunda', 'parte', 'onde', 'declaradas', 'ações', 'previstas', 'classe', 'tecnicamente', 'chamadas', 'métodos', 'Uma', 'classe', 'obrigada', 'ter', 'duas', 'sessões', 'podemos', 'ter', 'classes', 'possuem', 'somente', 'atributos', 'podemos', 'ter', 'classes', 'possuem', 'somente', 'métodos', 'podemos', 'ter', 'classes', 'possuem', 'ambas', 'sessões', 'Tudo', 'vai', 'depender', 'necessidade', 'Classes', 'existem', 'definirmos', 'moldes', 'definirmos', 'formato', 'estruturas', 'código', 'irá', 'manipular', 'Mas', 'servem', 'somente', 'moldes', 'Se', 'quisermos', 'utilizar', 'precisamos', 'colocar', 'algo', 'criar', 'estrutura', 'semelhante', 'molde', 'E', 'nesse', 'momento', 'entram', 'cena', 'objetos', 'Os', 'objetos', 'estruturas', 'criadas', 'partir', 'classes', 'Um', 'objeto', 'criado', 'partir', 'determinada', 'classe', 'assume', 'irá', 'possuir', 'mesmos', 'atributos', 'mesmos', 'métodos', 'definidos', 'classe', 'Uma', 'classe', 'pode', 'dar', 'origem', 'vários', 'objetos', 'distintos', 'si', 'compartilham', 'molde', 'Neste', 'exemplo', 'usamos', 'classe', 'criar', 'dois', 'objetos', 'partir', 'objetos', 'No', 'exemplo', 'acima', 'ainda', 'podemos', 'afirmar', 'duas', 'variáveis', 'tipo', 'embora', 'termos', 'técnicos', 'correto', 'dizer', 'duas', 'instâncias', 'classe', 'objetos', 'chamados', 'instâncias', 'classe', 'Porém', 'termos', 'práticos', 'problema', 'dizer', 'variável', 'tipo', 'classe', 'Objetos', 'importantes', 'algumas', 'razões', 'logo', 'aqui', 'podemos', 'ver', 'algumas', 'características', 'importantes', 'Objetos', 'definem', 'instâncias', 'classes', 'permite', 'usufruir', 'molde', 'atributos', 'métodos', 'definidos', 'classe', 'Objetos', 'guardam', 'estado', 'maneira', 'segregada', 'veja', 'objeto', 'corsa', 'características', 'definidas', 'maneira', 'própria', 'modelo', 'marca', 'chassi', 'fabricante', 'O', 'objeto', 'gol', 'exatamente', 'mesmas', 'características', 'definidas', 'acordo', 'objeto', 'gol', 'Embora', 'ambos', 'objetos', 'venham', 'mesma', 'classe', 'têm', 'próprios', 'valores', 'atributos', 'valores', 'atrelados', 'cada', 'instância', 'caso', 'instâncias', 'gol', 'corsa', 'Partindo', 'código', 'acima', 'métodos', 'Os', 'métodos', 'comportamentos', 'ações', 'objetos', 'podem', 'ter', 'No', 'código', 'acima', 'objetos', 'gol', 'corsa', 'virem', 'molde', 'Carro', 'adquirem', 'atributos', 'métodos', 'definidos', 'classe', 'Carro', 'passam', 'ter', 'características', 'modelo', 'marca', 'chassi', 'ganham', 'ações', 'definidas', 'classe', 'Carro', 'ligar', 'desligar', 'acelerar', 'Quando', 'objetos', 'atributos', 'características', 'métodos', 'ações', 'acessados', 'através', 'Por', 'exemplo', 'Carro', 'chamado', 'corsa', 'quero', 'acessar', 'atributo', 'modelo', 'devo', 'escrever', 'código', 'A', 'mesma', 'coisa', 'vale', 'métodos', 'quiser', 'acessar', 'método', 'ligar', 'objeto', 'corsa', 'devo', 'escrever', 'código', 'Com', 'breve', 'introdução', 'sobre', 'implementada', 'Orientação', 'Objetos', 'linguagem', 'C', 'assunto', 'bastante', 'denso', 'ainda', 'existem', 'muitos', 'outros', 'conceitos', 'importantes', 'relação', 'orientação', 'objetos', 'conceitos', 'encapsulamento', 'herança', 'polimorfismo', 'classes', 'abstratas', 'interfaces', 'outros', 'abordados', 'detalhes', 'artigo', 'sobre', 'orientação', 'objetos', 'citado', 'nesse', 'artigo', 'Por', 'fim', 'caso', 'queira', 'aprender', 'sobre', 'Orientação', 'Objetos', 'C', 'saiba', 'aqui', 'TreinaWeb', 'curso', 'C', 'Orientação', 'Objetos', 'possui', '02h44', 'videos', 'total', '24', 'exercícios', 'Conheça', 'outros', 'cursos', 'C', 'Veja', 'quais', 'tópicos', 'abordados', 'durante', 'curso', 'C', 'Orientação', 'Objetos', 'Definir', 'utilizar', 'atributos', 'métodos', 'classes']\n"
     ]
    }
   ],
   "source": [
    "new_words = [word for word in word_tokens if word.isalnum()]\n",
    "print(new_words)"
   ]
  },
  {
   "cell_type": "code",
   "execution_count": 15,
   "id": "074cdfcc",
   "metadata": {},
   "outputs": [
    {
     "data": {
      "text/plain": [
       "FreqDist({'objetos': 21, 'classe': 17, 'métodos': 12, 'classes': 11, 'características': 11, 'atributos': 10, 'código': 9, 'ações': 9, 'estruturas': 8, 'orientação': 7, ...})"
      ]
     },
     "execution_count": 15,
     "metadata": {},
     "output_type": "execute_result"
    }
   ],
   "source": [
    "fdist = FreqDist(new_words)\n",
    "fdist"
   ]
  },
  {
   "cell_type": "code",
   "execution_count": null,
   "id": "5d75a071",
   "metadata": {},
   "outputs": [],
   "source": []
  }
 ],
 "metadata": {
  "kernelspec": {
   "display_name": "Python 3 (ipykernel)",
   "language": "python",
   "name": "python3"
  },
  "language_info": {
   "codemirror_mode": {
    "name": "ipython",
    "version": 3
   },
   "file_extension": ".py",
   "mimetype": "text/x-python",
   "name": "python",
   "nbconvert_exporter": "python",
   "pygments_lexer": "ipython3",
   "version": "3.9.12"
  }
 },
 "nbformat": 4,
 "nbformat_minor": 5
}
