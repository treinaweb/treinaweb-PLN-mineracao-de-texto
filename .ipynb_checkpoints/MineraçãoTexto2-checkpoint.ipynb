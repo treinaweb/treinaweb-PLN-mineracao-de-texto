{
 "cells": [
  {
   "cell_type": "code",
   "execution_count": 1,
   "id": "7ca1bd2e",
   "metadata": {},
   "outputs": [
    {
     "name": "stdout",
     "output_type": "stream",
     "text": [
      "Requirement already satisfied: goose3 in c:\\users\\rodri\\anaconda3\\lib\\site-packages (3.1.11)\n",
      "Requirement already satisfied: cssselect in c:\\users\\rodri\\anaconda3\\lib\\site-packages (from goose3) (1.1.0)\n",
      "Requirement already satisfied: nltk in c:\\users\\rodri\\anaconda3\\lib\\site-packages (from goose3) (3.7)\n",
      "Requirement already satisfied: langdetect in c:\\users\\rodri\\anaconda3\\lib\\site-packages (from goose3) (1.0.9)\n",
      "Requirement already satisfied: requests in c:\\users\\rodri\\anaconda3\\lib\\site-packages (from goose3) (2.27.1)\n",
      "Requirement already satisfied: python-dateutil in c:\\users\\rodri\\anaconda3\\lib\\site-packages (from goose3) (2.8.2)\n",
      "Requirement already satisfied: jieba in c:\\users\\rodri\\anaconda3\\lib\\site-packages (from goose3) (0.42.1)\n",
      "Requirement already satisfied: beautifulsoup4 in c:\\users\\rodri\\anaconda3\\lib\\site-packages (from goose3) (4.11.1)\n",
      "Requirement already satisfied: Pillow in c:\\users\\rodri\\anaconda3\\lib\\site-packages (from goose3) (9.0.1)\n",
      "Requirement already satisfied: lxml in c:\\users\\rodri\\anaconda3\\lib\\site-packages (from goose3) (4.8.0)\n",
      "Requirement already satisfied: soupsieve>1.2 in c:\\users\\rodri\\anaconda3\\lib\\site-packages (from beautifulsoup4->goose3) (2.3.1)\n",
      "Requirement already satisfied: six in c:\\users\\rodri\\anaconda3\\lib\\site-packages (from langdetect->goose3) (1.16.0)\n",
      "Requirement already satisfied: click in c:\\users\\rodri\\anaconda3\\lib\\site-packages (from nltk->goose3) (8.1.3)\n",
      "Requirement already satisfied: joblib in c:\\users\\rodri\\anaconda3\\lib\\site-packages (from nltk->goose3) (1.1.0)\n",
      "Requirement already satisfied: regex>=2021.8.3 in c:\\users\\rodri\\anaconda3\\lib\\site-packages (from nltk->goose3) (2022.3.15)\n",
      "Requirement already satisfied: tqdm in c:\\users\\rodri\\anaconda3\\lib\\site-packages (from nltk->goose3) (4.64.0)\n",
      "Requirement already satisfied: colorama in c:\\users\\rodri\\anaconda3\\lib\\site-packages (from click->nltk->goose3) (0.4.4)\n",
      "Requirement already satisfied: certifi>=2017.4.17 in c:\\users\\rodri\\anaconda3\\lib\\site-packages (from requests->goose3) (2022.6.15)\n",
      "Requirement already satisfied: idna<4,>=2.5 in c:\\users\\rodri\\anaconda3\\lib\\site-packages (from requests->goose3) (2.10)\n",
      "Requirement already satisfied: charset-normalizer~=2.0.0 in c:\\users\\rodri\\anaconda3\\lib\\site-packages (from requests->goose3) (2.0.4)\n",
      "Requirement already satisfied: urllib3<1.27,>=1.21.1 in c:\\users\\rodri\\anaconda3\\lib\\site-packages (from requests->goose3) (1.26.9)\n"
     ]
    }
   ],
   "source": [
    "!pip install goose3"
   ]
  },
  {
   "cell_type": "code",
   "execution_count": 2,
   "id": "b6590504",
   "metadata": {},
   "outputs": [
    {
     "name": "stderr",
     "output_type": "stream",
     "text": [
      "[nltk_data] Downloading package punkt to\n",
      "[nltk_data]     C:\\Users\\rodri\\AppData\\Roaming\\nltk_data...\n",
      "[nltk_data]   Package punkt is already up-to-date!\n"
     ]
    },
    {
     "data": {
      "text/plain": [
       "True"
      ]
     },
     "execution_count": 2,
     "metadata": {},
     "output_type": "execute_result"
    }
   ],
   "source": [
    "from goose3 import Goose\n",
    "import nltk\n",
    "nltk.download('punkt')"
   ]
  },
  {
   "cell_type": "code",
   "execution_count": 3,
   "id": "7cceb5b6",
   "metadata": {},
   "outputs": [],
   "source": [
    "g = Goose()\n",
    "url = 'https://www.treinaweb.com.br/blog/orientacao-a-objetos-no-csharp'"
   ]
  },
  {
   "cell_type": "code",
   "execution_count": 4,
   "id": "5432dec9",
   "metadata": {},
   "outputs": [
    {
     "data": {
      "text/plain": [
       "<goose3.article.Article at 0x14acb1354f0>"
      ]
     },
     "execution_count": 4,
     "metadata": {},
     "output_type": "execute_result"
    }
   ],
   "source": [
    "artigo = g.extract(url)\n",
    "artigo"
   ]
  },
  {
   "cell_type": "code",
   "execution_count": 5,
   "id": "ed566b04",
   "metadata": {},
   "outputs": [
    {
     "data": {
      "text/plain": [
       "'Orientação a objetos no C#'"
      ]
     },
     "execution_count": 5,
     "metadata": {},
     "output_type": "execute_result"
    }
   ],
   "source": [
    "artigo.title"
   ]
  },
  {
   "cell_type": "code",
   "execution_count": 6,
   "id": "d95422a4",
   "metadata": {},
   "outputs": [
    {
     "data": {
      "text/plain": [
       "'Aprenda como trabalhar com classes, atributos, métodos e objetos no C# e aumente seus conhecimentos nessa linguagem incrível!'"
      ]
     },
     "execution_count": 6,
     "metadata": {},
     "output_type": "execute_result"
    }
   ],
   "source": [
    "artigo.meta_description"
   ]
  },
  {
   "cell_type": "code",
   "execution_count": 7,
   "id": "810e99b3",
   "metadata": {},
   "outputs": [
    {
     "data": {
      "text/plain": [
       "['https://www.treinaweb.com.br/blog/os-pilares-da-orientacao-a-objetos/',\n",
       " 'https://www.treinaweb.com.br/curso/csharp-fundamentos',\n",
       " 'https://www.treinaweb.com.br/blog/os-pilares-da-orientacao-a-objetos/',\n",
       " 'https://www.treinaweb.com.br/curso/logica-orientada-a-objetos',\n",
       " 'https://www.treinaweb.com.br/curso/csharp-orientacao-a-objetos',\n",
       " 'https://www.treinaweb.com.br/blog/classes-abstratas-vs-interfaces',\n",
       " 'https://www.treinaweb.com.br/',\n",
       " 'https://www.treinaweb.com.br/curso/csharp-orientacao-a-objetos',\n",
       " 'https://www.treinaweb.com.br/cursos?q=C%23']"
      ]
     },
     "execution_count": 7,
     "metadata": {},
     "output_type": "execute_result"
    }
   ],
   "source": [
    "artigo.links"
   ]
  },
  {
   "cell_type": "code",
   "execution_count": 8,
   "id": "3af85a34",
   "metadata": {},
   "outputs": [
    {
     "data": {
      "text/plain": [
       "'O paradigma orientado a objetos traz boas vantagens, como a reutilização de código, a legibilidade e manutenibilidade do código, a natural modularização e a produção de código mais acessível, já que as estruturas criadas geralmente representam aspectos também existentes no mundo real.\\n\\nQuando lidamos com o paradigma orientado a objetos, acabamos criando diversas unidades de software através de estruturas chamadas classes. A partir destas classes, podemos criar estruturas chamadas objetos, estruturas estas que interagem entre si. Esse é o motivo pelo qual o paradigma é chamado de orientação a objetos: todas as interações necessárias para que o software funcione ocorrem através de mensagens e comandos trocados entre estes objetos.\\n\\nCaso você esteja iniciando e não conheça muita coisa sobre orientação a objetos, indico primeiramente a leitura do artigo “Os pilares da orientação a objetos”.\\n\\nQuando falamos sobre orientação a objetos, as classes são uma das estruturas essenciais.\\n\\nUma classe funciona como um “molde” para definição de outras estruturas. Classes geralmente são compostas pelo agrupamento de atributos ou características, e métodos ou ações. Uma classe define agrupamentos de atributos e métodos que são correlacionados e podem ser reaproveitados.\\n\\nPor exemplo, imagine que você precisa criar uma aplicação para fazer a gestão de uma frota de veículos. Nessa aplicação, com certeza será necessário manipular informações de carros. E todos os carros geralmente possuem um “molde” padrão com características e ações que são comuns a todos os carros.\\n\\nTodos os carros, por exemplo, possuem características como:\\n\\nE possuem ações em comum, como:\\n\\nDessa maneira, poderíamos criar uma estrutura de código que representasse esse formato padrão para todos os veículos, agrupando justamente estas características e ações. E é exatamente essa estrutura que é uma classe. Nesse caso, poderíamos ter uma classe Carro, que define as características e ações que são comuns para todos os carros.\\n\\nNeste momento, caso você tenha visto possíveis palavras desconhecidas ou que você não entenda o funcionamento, como , por exemplo, seu funcionamento é abordado no artigo “Os pilares da orientação a objetos” que citamos no começo deste artigo.\\n\\nComo no exemplo acima, classes geralmente possuem duas sessões distintas: uma primeira parte, onde são declaradas as características (que tecnicamente são chamadas de atributos); e uma segunda parte onde são declaradas as ações previstas por aquela classe (que tecnicamente são chamadas de métodos).\\n\\nUma classe não é obrigada a ter as duas sessões: podemos ter classes que possuem somente atributos, podemos ter classes que possuem somente métodos e podemos ter classes que possuem ambas as sessões. Tudo vai depender da necessidade.\\n\\nClasses existem para definirmos os nossos moldes, ou seja, para definirmos o formato de estruturas que nosso código irá manipular. Mas, elas servem somente para ser moldes. Se quisermos as utilizar, precisamos colocar algo e criar uma estrutura que seja semelhante a esse molde. E é nesse momento que entram em cena os objetos.\\n\\nOs objetos são estruturas que são criadas a partir das classes. Um objeto, quando criado a partir de uma determinada classe, assume que irá possuir os mesmos atributos e os mesmos métodos definidos pela classe. Uma classe pode dar origem a vários objetos distintos entre si que compartilham o mesmo molde.\\n\\nNeste exemplo, usamos a nossa classe para criar dois objetos a partir dela: os objetos e .\\n\\nNo exemplo acima, ainda podemos afirmar que temos duas variáveis do tipo : e ; embora, em termos técnicos, o correto é dizer que temos duas instâncias da classe : e , objetos também são chamados de instâncias de uma classe. Porém, em termos práticos, não há problema em dizer que temos uma variável do tipo de uma classe.\\n\\nObjetos são importantes por algumas razões, logo aqui, podemos ver algumas características importantes:\\n• Objetos definem instâncias de classes, o que nos permite usufruir do molde de atributos e métodos definidos por uma classe;\\n• Objetos guardam estado de maneira segregada: veja que o objeto corsa tem suas características definidas de maneira própria, como modelo, marca, chassi e fabricante. O objeto gol também tem exatamente as mesmas características, mas definidas de acordo com o objeto gol. Embora ambos os objetos venham da mesma classe, eles têm seus próprios valores de atributos, valores estes atrelados a cada instância (no caso, as instâncias gol e corsa).\\n\\nPartindo do mesmo código acima, temos os métodos. Os métodos são comportamentos e ações que os objetos podem ter.\\n\\nNo código acima, os objetos gol e corsa, por virem do “molde” Carro, adquirem os atributos e métodos definidos pela classe Carro e, por isso, passam a ter as características com modelo, marca e chassi; e ganham as ações definidas pela classe Carro, como ligar, desligar e acelerar.\\n\\nQuando temos objetos, seus atributos (ou características) e métodos (ou ações) são acessados através do “.”. Por exemplo: se eu tenho um Carro chamado corsa e quero acessar seu atributo modelo, devo escrever um código como . A mesma coisa vale para métodos: se eu quiser acessar o método ligar do objeto corsa, devo escrever o código .\\n\\nCom isso tivemos uma breve introdução sobre como é implementada a Orientação a Objetos na linguagem C#, esse é um assunto bastante denso e ainda existem muitos outros conceitos importantes em relação a orientação a objetos, conceitos como encapsulamento, herança, polimorfismo, classes abstratas, interfaces e entre outros que são abordados em mais detalhes no artigo sobre orientação a objetos já citado nesse artigo.\\n\\nPor fim, caso queira aprender mais sobre Orientação a Objetos no C# saiba que aqui na TreinaWeb temos o curso C# - Orientação a Objetos que possui 02h44 de videos e um total de 24 exercícios. Conheça também nossos outros cursos de C#.\\n\\nVeja quais são os tópicos abordados durante o curso de C# - Orientação a Objetos:\\n• Definir e utilizar atributos e métodos em suas classes;'"
      ]
     },
     "execution_count": 8,
     "metadata": {},
     "output_type": "execute_result"
    }
   ],
   "source": [
    "artigo.cleaned_text"
   ]
  },
  {
   "cell_type": "code",
   "execution_count": null,
   "id": "0898482e",
   "metadata": {},
   "outputs": [],
   "source": []
  }
 ],
 "metadata": {
  "kernelspec": {
   "display_name": "Python 3 (ipykernel)",
   "language": "python",
   "name": "python3"
  },
  "language_info": {
   "codemirror_mode": {
    "name": "ipython",
    "version": 3
   },
   "file_extension": ".py",
   "mimetype": "text/x-python",
   "name": "python",
   "nbconvert_exporter": "python",
   "pygments_lexer": "ipython3",
   "version": "3.9.12"
  }
 },
 "nbformat": 4,
 "nbformat_minor": 5
}
