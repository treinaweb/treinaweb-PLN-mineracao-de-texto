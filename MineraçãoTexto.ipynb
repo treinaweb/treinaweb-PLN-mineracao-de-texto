{
 "cells": [
  {
   "cell_type": "code",
   "execution_count": 1,
   "id": "8ddb7308",
   "metadata": {},
   "outputs": [
    {
     "name": "stdout",
     "output_type": "stream",
     "text": [
      "Requirement already satisfied: nltk in c:\\users\\rodri\\anaconda3\\lib\\site-packages (3.7)\n",
      "Requirement already satisfied: joblib in c:\\users\\rodri\\anaconda3\\lib\\site-packages (from nltk) (1.1.0)\n",
      "Requirement already satisfied: click in c:\\users\\rodri\\anaconda3\\lib\\site-packages (from nltk) (8.1.3)\n",
      "Requirement already satisfied: tqdm in c:\\users\\rodri\\anaconda3\\lib\\site-packages (from nltk) (4.64.0)\n",
      "Requirement already satisfied: regex>=2021.8.3 in c:\\users\\rodri\\anaconda3\\lib\\site-packages (from nltk) (2022.3.15)\n",
      "Requirement already satisfied: colorama in c:\\users\\rodri\\anaconda3\\lib\\site-packages (from click->nltk) (0.4.4)\n"
     ]
    }
   ],
   "source": [
    "!pip install nltk"
   ]
  },
  {
   "cell_type": "code",
   "execution_count": 2,
   "id": "0be8a675",
   "metadata": {},
   "outputs": [],
   "source": [
    "import os \n",
    "from nltk import sent_tokenize\n",
    "from nltk import word_tokenize\n",
    "from nltk.probability import FreqDist\n",
    "import matplotlib.pyplot as plt\n",
    "from wordcloud import WordCloud, STOPWORDS\n",
    "from PIL import Image\n",
    "import numpy as np\n",
    "%matplotlib inline"
   ]
  },
  {
   "cell_type": "code",
   "execution_count": 3,
   "id": "0ddd03d1",
   "metadata": {},
   "outputs": [
    {
     "name": "stderr",
     "output_type": "stream",
     "text": [
      "[nltk_data] Downloading package punkt to\n",
      "[nltk_data]     C:\\Users\\rodri\\AppData\\Roaming\\nltk_data...\n",
      "[nltk_data]   Package punkt is already up-to-date!\n"
     ]
    },
    {
     "data": {
      "text/plain": [
       "True"
      ]
     },
     "execution_count": 3,
     "metadata": {},
     "output_type": "execute_result"
    }
   ],
   "source": [
    "import nltk\n",
    "nltk.download('punkt')"
   ]
  },
  {
   "cell_type": "markdown",
   "id": "6407a13f",
   "metadata": {},
   "source": [
    "# Importando Dados"
   ]
  },
  {
   "cell_type": "code",
   "execution_count": 4,
   "id": "ddc06a5b",
   "metadata": {},
   "outputs": [
    {
     "name": "stdout",
     "output_type": "stream",
     "text": [
      "Ainda pior que a convicção do não e a incerteza do talvez é a desilusão de um quase. É o quase que me incomoda, que me entristece, que me mata trazendo tudo que poderia ter sido e não foi. Quem quase ganhou ainda joga, quem quase passou ainda estuda, quem quase morreu está vivo, quem quase amou não amou. Basta pensar nas oportunidades que escaparam pelos dedos, nas chances que se perdem por medo, nas ideias que nunca sairão do papel por essa maldita mania de viver no outono. \n"
     ]
    }
   ],
   "source": [
    "with open(os.path.join(\"data\", \"frases.txt\"), \"r\", encoding=\"utf-8\") as f:\n",
    "    texto = f.read()\n",
    "    print(texto)"
   ]
  },
  {
   "cell_type": "markdown",
   "id": "f2851185",
   "metadata": {},
   "source": [
    "# Tokenização"
   ]
  },
  {
   "cell_type": "code",
   "execution_count": 5,
   "id": "1c393477",
   "metadata": {},
   "outputs": [
    {
     "data": {
      "text/plain": [
       "'Ainda pior que a convicção do não e a incerteza do talvez é a desilusão de um quase. É o quase que me incomoda, que me entristece, que me mata trazendo tudo que poderia ter sido e não foi. Quem quase ganhou ainda joga, quem quase passou ainda estuda, quem quase morreu está vivo, quem quase amou não amou. Basta pensar nas oportunidades que escaparam pelos dedos, nas chances que se perdem por medo, nas ideias que nunca sairão do papel por essa maldita mania de viver no outono. '"
      ]
     },
     "execution_count": 5,
     "metadata": {},
     "output_type": "execute_result"
    }
   ],
   "source": [
    "texto"
   ]
  },
  {
   "cell_type": "code",
   "execution_count": 6,
   "id": "07f3ed43",
   "metadata": {},
   "outputs": [
    {
     "name": "stdout",
     "output_type": "stream",
     "text": [
      "['Ainda pior que a convicção do não e a incerteza do talvez é a desilusão de um quase.', 'É o quase que me incomoda, que me entristece, que me mata trazendo tudo que poderia ter sido e não foi.', 'Quem quase ganhou ainda joga, quem quase passou ainda estuda, quem quase morreu está vivo, quem quase amou não amou.', 'Basta pensar nas oportunidades que escaparam pelos dedos, nas chances que se perdem por medo, nas ideias que nunca sairão do papel por essa maldita mania de viver no outono.']\n"
     ]
    }
   ],
   "source": [
    "sent_tokens = sent_tokenize(texto)\n",
    "print(sent_tokens)"
   ]
  },
  {
   "cell_type": "code",
   "execution_count": 7,
   "id": "02095f0d",
   "metadata": {},
   "outputs": [
    {
     "name": "stdout",
     "output_type": "stream",
     "text": [
      "['Ainda', 'pior', 'que', 'a', 'convicção', 'do', 'não', 'e', 'a', 'incerteza', 'do', 'talvez', 'é', 'a', 'desilusão', 'de', 'um', 'quase', '.', 'É', 'o', 'quase', 'que', 'me', 'incomoda', ',', 'que', 'me', 'entristece', ',', 'que', 'me', 'mata', 'trazendo', 'tudo', 'que', 'poderia', 'ter', 'sido', 'e', 'não', 'foi', '.', 'Quem', 'quase', 'ganhou', 'ainda', 'joga', ',', 'quem', 'quase', 'passou', 'ainda', 'estuda', ',', 'quem', 'quase', 'morreu', 'está', 'vivo', ',', 'quem', 'quase', 'amou', 'não', 'amou', '.', 'Basta', 'pensar', 'nas', 'oportunidades', 'que', 'escaparam', 'pelos', 'dedos', ',', 'nas', 'chances', 'que', 'se', 'perdem', 'por', 'medo', ',', 'nas', 'ideias', 'que', 'nunca', 'sairão', 'do', 'papel', 'por', 'essa', 'maldita', 'mania', 'de', 'viver', 'no', 'outono', '.']\n"
     ]
    }
   ],
   "source": [
    "word_tokens = word_tokenize(texto)\n",
    "print(word_tokens)"
   ]
  },
  {
   "cell_type": "markdown",
   "id": "4d433f8d",
   "metadata": {},
   "source": [
    "# Frequência de Distribuição"
   ]
  },
  {
   "cell_type": "code",
   "execution_count": 8,
   "id": "d80c0a8d",
   "metadata": {},
   "outputs": [],
   "source": [
    "fdist = FreqDist(word_tokens)"
   ]
  },
  {
   "cell_type": "code",
   "execution_count": 9,
   "id": "735e0d7a",
   "metadata": {},
   "outputs": [
    {
     "data": {
      "text/plain": [
       "FreqDist({'que': 8, ',': 7, 'quase': 6, '.': 4, 'a': 3, 'do': 3, 'não': 3, 'me': 3, 'quem': 3, 'nas': 3, ...})"
      ]
     },
     "execution_count": 9,
     "metadata": {},
     "output_type": "execute_result"
    }
   ],
   "source": [
    "fdist"
   ]
  },
  {
   "cell_type": "code",
   "execution_count": 10,
   "id": "aff36fdb",
   "metadata": {},
   "outputs": [
    {
     "data": {
      "text/plain": [
       "[('que', 8),\n",
       " (',', 7),\n",
       " ('quase', 6),\n",
       " ('.', 4),\n",
       " ('a', 3),\n",
       " ('do', 3),\n",
       " ('não', 3),\n",
       " ('me', 3),\n",
       " ('quem', 3),\n",
       " ('nas', 3)]"
      ]
     },
     "execution_count": 10,
     "metadata": {},
     "output_type": "execute_result"
    }
   ],
   "source": [
    "fdist.most_common(10)"
   ]
  },
  {
   "cell_type": "code",
   "execution_count": 11,
   "id": "764ef7c6",
   "metadata": {},
   "outputs": [
    {
     "data": {
      "image/png": "[encoded data removed]",
      "text/plain": [
       "<Figure size 432x288 with 1 Axes>"
      ]
     },
     "metadata": {
      "needs_background": "light"
     },
     "output_type": "display_data"
    },
    {
     "data": {
      "text/plain": [
       "<AxesSubplot:xlabel='Samples', ylabel='Counts'>"
      ]
     },
     "execution_count": 11,
     "metadata": {},
     "output_type": "execute_result"
    }
   ],
   "source": [
    "fdist.plot(10)"
   ]
  },
  {
   "cell_type": "code",
   "execution_count": null,
   "id": "122fadcf",
   "metadata": {},
   "outputs": [],
   "source": []
  }
 ],
 "metadata": {
  "kernelspec": {
   "display_name": "Python 3 (ipykernel)",
   "language": "python",
   "name": "python3"
  },
  "language_info": {
   "codemirror_mode": {
    "name": "ipython",
    "version": 3
   },
   "file_extension": ".py",
   "mimetype": "text/x-python",
   "name": "python",
   "nbconvert_exporter": "python",
   "pygments_lexer": "ipython3",
   "version": "3.9.12"
  }
 },
 "nbformat": 4,
 "nbformat_minor": 5
}
